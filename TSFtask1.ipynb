{
  "nbformat": 4,
  "nbformat_minor": 0,
  "metadata": {
    "colab": {
      "name": "Copy of Untitled2.ipynb",
      "provenance": [],
      "collapsed_sections": []
    },
    "kernelspec": {
      "name": "python3",
      "display_name": "Python 3"
    }
  },
  "cells": [
    {
      "cell_type": "markdown",
      "metadata": {
        "id": "uZhenvOl8GGt"
      },
      "source": [
        "**KRITHIKA M**"
      ]
    },
    {
      "cell_type": "markdown",
      "metadata": {
        "id": "pLq1PO1D9uiQ"
      },
      "source": [
        "**Prediction using supervised ML**\r\n",
        "\r\n",
        "Simple Linear regression task between a scalar variable and an explanatory variable to model the relationship between them."
      ]
    },
    {
      "cell_type": "code",
      "metadata": {
        "id": "DHIiW4Ja-6aE"
      },
      "source": [
        "#importing the data exploration python libraries to be used in this task:\r\n",
        "import pandas as pd\r\n",
        "import numpy as np\r\n",
        "import matplotlib.pyplot as plt\r\n",
        "#%matplotlib inline allows plots to appear and be saved in the notebook.\r\n",
        "%matplotlib inline"
      ],
      "execution_count": 1,
      "outputs": []
    },
    {
      "cell_type": "code",
      "metadata": {
        "colab": {
          "base_uri": "https://localhost:8080/"
        },
        "id": "ouMqVzPsAM0J",
        "outputId": "bad57812-9d7f-4104-de42-58b896c94bf4"
      },
      "source": [
        "#reading data files into pandas from the link.\r\n",
        "dataurl=\"http://bit.ly/w-data\"\r\n",
        "datafile=pd.read_csv(dataurl)\r\n",
        "print(\"Data has been imported.\")"
      ],
      "execution_count": 2,
      "outputs": [
        {
          "output_type": "stream",
          "text": [
            "Data has been imported.\n"
          ],
          "name": "stdout"
        }
      ]
    },
    {
      "cell_type": "code",
      "metadata": {
        "colab": {
          "base_uri": "https://localhost:8080/",
          "height": 195
        },
        "id": "pa62VEUeA-iu",
        "outputId": "c4edebad-3089-44e6-bf42-7aa47773ecaa"
      },
      "source": [
        "#using the head() method to display the first few(5) rows of the data imported.\r\n",
        "datafile.head()"
      ],
      "execution_count": 3,
      "outputs": [
        {
          "output_type": "execute_result",
          "data": {
            "text/html": [
              "<div>\n",
              "<style scoped>\n",
              "    .dataframe tbody tr th:only-of-type {\n",
              "        vertical-align: middle;\n",
              "    }\n",
              "\n",
              "    .dataframe tbody tr th {\n",
              "        vertical-align: top;\n",
              "    }\n",
              "\n",
              "    .dataframe thead th {\n",
              "        text-align: right;\n",
              "    }\n",
              "</style>\n",
              "<table border=\"1\" class=\"dataframe\">\n",
              "  <thead>\n",
              "    <tr style=\"text-align: right;\">\n",
              "      <th></th>\n",
              "      <th>Hours</th>\n",
              "      <th>Scores</th>\n",
              "    </tr>\n",
              "  </thead>\n",
              "  <tbody>\n",
              "    <tr>\n",
              "      <th>0</th>\n",
              "      <td>2.5</td>\n",
              "      <td>21</td>\n",
              "    </tr>\n",
              "    <tr>\n",
              "      <th>1</th>\n",
              "      <td>5.1</td>\n",
              "      <td>47</td>\n",
              "    </tr>\n",
              "    <tr>\n",
              "      <th>2</th>\n",
              "      <td>3.2</td>\n",
              "      <td>27</td>\n",
              "    </tr>\n",
              "    <tr>\n",
              "      <th>3</th>\n",
              "      <td>8.5</td>\n",
              "      <td>75</td>\n",
              "    </tr>\n",
              "    <tr>\n",
              "      <th>4</th>\n",
              "      <td>3.5</td>\n",
              "      <td>30</td>\n",
              "    </tr>\n",
              "  </tbody>\n",
              "</table>\n",
              "</div>"
            ],
            "text/plain": [
              "   Hours  Scores\n",
              "0    2.5      21\n",
              "1    5.1      47\n",
              "2    3.2      27\n",
              "3    8.5      75\n",
              "4    3.5      30"
            ]
          },
          "metadata": {
            "tags": []
          },
          "execution_count": 3
        }
      ]
    },
    {
      "cell_type": "code",
      "metadata": {
        "colab": {
          "base_uri": "https://localhost:8080/",
          "height": 295
        },
        "id": "rPgv0EG4F8-q",
        "outputId": "ab757317-9311-42d3-cc72-cadd297555f2"
      },
      "source": [
        "#a simple plot to see the relationship.\r\n",
        "datafile.plot(x='Hours', y='Scores', style='o')  \r\n",
        "plt.title('Hours vs Percentage')  \r\n",
        "plt.xlabel('Hours Studied')  \r\n",
        "plt.ylabel('Percentage Score')  \r\n",
        "plt.show()"
      ],
      "execution_count": 4,
      "outputs": [
        {
          "output_type": "display_data",
          "data": {
            "image/png": "[encoded data removed]",
            "text/plain": [
              "<Figure size 432x288 with 1 Axes>"
            ]
          },
          "metadata": {
            "tags": [],
            "needs_background": "light"
          }
        }
      ]
    },
    {
      "cell_type": "markdown",
      "metadata": {
        "id": "sEC7b19jGwTj"
      },
      "source": [
        "The above graph shows that there is a fairly strong positive linear relation between the number of hours studied and the the scores achieved."
      ]
    },
    {
      "cell_type": "markdown",
      "metadata": {
        "id": "Cxklr8C2Jpjv"
      },
      "source": [
        "**Preparing the data:**\r\n",
        "\r\n",
        "Dividing data into data(inputs) and labels(outputs) using data selection python pandas method:** iloc**"
      ]
    },
    {
      "cell_type": "code",
      "metadata": {
        "id": "vUxBiZ54KIos"
      },
      "source": [
        "#iloc[<row selector>,<column selector>]\r\n",
        "x = datafile.iloc[:, :-1].values  #selecting all the rows and all columns except the last column\r\n",
        "y = datafile.iloc[:, 1].values #selecting all rows and the second column."
      ],
      "execution_count": 5,
      "outputs": []
    },
    {
      "cell_type": "markdown",
      "metadata": {
        "id": "qZ43FApvMbhT"
      },
      "source": [
        "**Splitting the data:**\r\n",
        "\r\n",
        "Splitting the prepared data into test and train using the test_train_split utility from sklearn.model_selection.\r\n",
        "\r\n",
        "**Train**: sample data used to train the model through which future predictions can be made.\r\n",
        "\r\n",
        "**Test**: part of data that is unseen by the model, it is used to test how good the relationship and the prediction is made by the model."
      ]
    },
    {
      "cell_type": "code",
      "metadata": {
        "id": "vo5Nk8MWMruL"
      },
      "source": [
        "#both the data and labels are needed to be split.\r\n",
        "#0.25 is the default test size.\r\n",
        "#random_state controls the shuffling.\r\n",
        "from sklearn.model_selection import train_test_split  \r\n",
        "x_train, x_test, y_train, y_test = train_test_split(x, y, \r\n",
        "                            test_size=0.25, random_state=0)  \r\n",
        " "
      ],
      "execution_count": 6,
      "outputs": []
    },
    {
      "cell_type": "markdown",
      "metadata": {
        "id": "lGCz8P0GQVuf"
      },
      "source": [
        "**Training the model:**\r\n",
        "\r\n",
        "The .fit() method is used to train the model."
      ]
    },
    {
      "cell_type": "code",
      "metadata": {
        "colab": {
          "base_uri": "https://localhost:8080/"
        },
        "id": "NrbsBAV_Qzy2",
        "outputId": "bfd2a51d-fcda-45b2-c922-6de37de58fa3"
      },
      "source": [
        "from sklearn.linear_model import LinearRegression  \r\n",
        "regressor = LinearRegression()  #linear regression fits a linear model for least squares.\r\n",
        "regressor.fit(x_train, y_train) #fit method takes the train attributes and the train labels.\r\n",
        "\r\n",
        "print(\"Model is trained.\")"
      ],
      "execution_count": 7,
      "outputs": [
        {
          "output_type": "stream",
          "text": [
            "Model is trained.\n"
          ],
          "name": "stdout"
        }
      ]
    },
    {
      "cell_type": "code",
      "metadata": {
        "colab": {
          "base_uri": "https://localhost:8080/",
          "height": 295
        },
        "id": "h-3F03CTTF8Y",
        "outputId": "30d8b6a6-090a-417b-bffb-1fc8eef1a5f6"
      },
      "source": [
        "# Plotting the regression line\r\n",
        "line = regressor.coef_*x+regressor.intercept_\r\n",
        "\r\n",
        "# Plotting for the test data\r\n",
        "plt.scatter(x, y)\r\n",
        "plt.title('Linear regression line')  \r\n",
        "plt.xlabel('Hours Studied')  \r\n",
        "plt.ylabel('Percentage Score') \r\n",
        "plt.plot(x, line);\r\n",
        "plt.show()"
      ],
      "execution_count": 8,
      "outputs": [
        {
          "output_type": "display_data",
          "data": {
            "image/png": "[encoded data removed]",
            "text/plain": [
              "<Figure size 432x288 with 1 Axes>"
            ]
          },
          "metadata": {
            "tags": [],
            "needs_background": "light"
          }
        }
      ]
    },
    {
      "cell_type": "markdown",
      "metadata": {
        "id": "7WhqRIXHUZrY"
      },
      "source": [
        "**Testing the model:**\r\n",
        "\r\n",
        "This allows to validate the model and compare how well the model performed in predicting."
      ]
    },
    {
      "cell_type": "code",
      "metadata": {
        "colab": {
          "base_uri": "https://localhost:8080/"
        },
        "id": "1omt3UmDUuH2",
        "outputId": "bb41446e-fdc4-4b2d-900e-2937e6b2ce25"
      },
      "source": [
        "print(x_test) \r\n",
        "y_pred = regressor.predict(x_test)"
      ],
      "execution_count": 9,
      "outputs": [
        {
          "output_type": "stream",
          "text": [
            "[[1.5]\n",
            " [3.2]\n",
            " [7.4]\n",
            " [2.5]\n",
            " [5.9]\n",
            " [3.8]\n",
            " [1.9]]\n"
          ],
          "name": "stdout"
        }
      ]
    },
    {
      "cell_type": "code",
      "metadata": {
        "colab": {
          "base_uri": "https://localhost:8080/",
          "height": 254
        },
        "id": "xSgdWt1KV1yF",
        "outputId": "dfd88f54-aefd-4e25-c32f-dc0c610785af"
      },
      "source": [
        "#creating a dataframe to compare the actual and predicted values:\r\n",
        "df = pd.DataFrame({'Actual': y_test, 'Predicted': y_pred})  \r\n",
        "df\r\n"
      ],
      "execution_count": 10,
      "outputs": [
        {
          "output_type": "execute_result",
          "data": {
            "text/html": [
              "<div>\n",
              "<style scoped>\n",
              "    .dataframe tbody tr th:only-of-type {\n",
              "        vertical-align: middle;\n",
              "    }\n",
              "\n",
              "    .dataframe tbody tr th {\n",
              "        vertical-align: top;\n",
              "    }\n",
              "\n",
              "    .dataframe thead th {\n",
              "        text-align: right;\n",
              "    }\n",
              "</style>\n",
              "<table border=\"1\" class=\"dataframe\">\n",
              "  <thead>\n",
              "    <tr style=\"text-align: right;\">\n",
              "      <th></th>\n",
              "      <th>Actual</th>\n",
              "      <th>Predicted</th>\n",
              "    </tr>\n",
              "  </thead>\n",
              "  <tbody>\n",
              "    <tr>\n",
              "      <th>0</th>\n",
              "      <td>20</td>\n",
              "      <td>16.844722</td>\n",
              "    </tr>\n",
              "    <tr>\n",
              "      <th>1</th>\n",
              "      <td>27</td>\n",
              "      <td>33.745575</td>\n",
              "    </tr>\n",
              "    <tr>\n",
              "      <th>2</th>\n",
              "      <td>69</td>\n",
              "      <td>75.500624</td>\n",
              "    </tr>\n",
              "    <tr>\n",
              "      <th>3</th>\n",
              "      <td>30</td>\n",
              "      <td>26.786400</td>\n",
              "    </tr>\n",
              "    <tr>\n",
              "      <th>4</th>\n",
              "      <td>62</td>\n",
              "      <td>60.588106</td>\n",
              "    </tr>\n",
              "    <tr>\n",
              "      <th>5</th>\n",
              "      <td>35</td>\n",
              "      <td>39.710582</td>\n",
              "    </tr>\n",
              "    <tr>\n",
              "      <th>6</th>\n",
              "      <td>24</td>\n",
              "      <td>20.821393</td>\n",
              "    </tr>\n",
              "  </tbody>\n",
              "</table>\n",
              "</div>"
            ],
            "text/plain": [
              "   Actual  Predicted\n",
              "0      20  16.844722\n",
              "1      27  33.745575\n",
              "2      69  75.500624\n",
              "3      30  26.786400\n",
              "4      62  60.588106\n",
              "5      35  39.710582\n",
              "6      24  20.821393"
            ]
          },
          "metadata": {
            "tags": []
          },
          "execution_count": 10
        }
      ]
    },
    {
      "cell_type": "markdown",
      "metadata": {
        "id": "vrN3JP-aXkIM"
      },
      "source": [
        "**Predicting the score of a student who studies for 9.25 hours per day:**"
      ]
    },
    {
      "cell_type": "code",
      "metadata": {
        "colab": {
          "base_uri": "https://localhost:8080/"
        },
        "id": "ohdmdIwUXtjG",
        "outputId": "7db212b6-122c-42e0-8266-ab6ddd405b92"
      },
      "source": [
        "hours = 9.25\r\n",
        "own_pred = regressor.predict(np.array(hours).reshape(1,1))\r\n",
        "print(\"The score predicted for 9.25 hours is = {}\".format(own_pred[0]))"
      ],
      "execution_count": 11,
      "outputs": [
        {
          "output_type": "stream",
          "text": [
            "The score predicted for 9.25 hours is = 93.89272889341652\n"
          ],
          "name": "stdout"
        }
      ]
    },
    {
      "cell_type": "markdown",
      "metadata": {
        "id": "4oyOTEg2cVeo"
      },
      "source": [
        "**Evaluating the model using regression metrics:**"
      ]
    },
    {
      "cell_type": "code",
      "metadata": {
        "colab": {
          "base_uri": "https://localhost:8080/"
        },
        "id": "_5r-cwfocaeE",
        "outputId": "863d7cb4-7442-4691-9cb8-9381426ccd7c"
      },
      "source": [
        "from sklearn import metrics  \r\n",
        "print('Mean Absolute Error:', \r\n",
        "      metrics.mean_absolute_error(y_test, y_pred)) "
      ],
      "execution_count": 12,
      "outputs": [
        {
          "output_type": "stream",
          "text": [
            "Mean Absolute Error: 4.130879918502482\n"
          ],
          "name": "stdout"
        }
      ]
    },
    {
      "cell_type": "code",
      "metadata": {
        "colab": {
          "base_uri": "https://localhost:8080/"
        },
        "id": "Xd0ZAYGlcd5B",
        "outputId": "0a654d2e-3262-4830-9f7a-6b1afa9515e4"
      },
      "source": [
        "from sklearn import metrics  \r\n",
        "print('Mean Squared Error:', \r\n",
        "      metrics.mean_squared_error(y_test, y_pred)) "
      ],
      "execution_count": 13,
      "outputs": [
        {
          "output_type": "stream",
          "text": [
            "Mean Squared Error: 20.33292367497996\n"
          ],
          "name": "stdout"
        }
      ]
    },
    {
      "cell_type": "code",
      "metadata": {
        "colab": {
          "base_uri": "https://localhost:8080/"
        },
        "id": "4IWY6E1kchs3",
        "outputId": "f7d16d80-f78f-42c0-b690-d940321bbddc"
      },
      "source": [
        "from sklearn import metrics  \r\n",
        "print('R-sqaured Error:', \r\n",
        "      metrics.r2_score(y_test, y_pred)) "
      ],
      "execution_count": 14,
      "outputs": [
        {
          "output_type": "stream",
          "text": [
            "R-sqaured Error: 0.9367661043365056\n"
          ],
          "name": "stdout"
        }
      ]
    },
    {
      "cell_type": "markdown",
      "metadata": {
        "id": "lJDk-Pl3-17F"
      },
      "source": [
        "**END OF TASK 1**"
      ]
    }
  ]
}