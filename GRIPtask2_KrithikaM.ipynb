{
 "cells": [
  {
   "cell_type": "markdown",
   "id": "given-industry",
   "metadata": {},
   "source": [
    "# KRITHIKA M\n",
    "TASK 2 - PREDICTION USING UNSUPERVISED ML"
   ]
  },
  {
   "cell_type": "markdown",
   "id": "included-herald",
   "metadata": {},
   "source": [
    "The IRIS dataset is about three species - Setosa,Versicolor,Verginica.\n",
    "There are four variables - Sepal.width, Sepal.length, Petal.width, Petal.length."
   ]
  },
  {
   "cell_type": "code",
   "execution_count": 17,
   "id": "ultimate-surprise",
   "metadata": {},
   "outputs": [
    {
     "data": {
      "text/html": [
       "<table>\n",
       "<thead><tr><th scope=col>Sepal.Length</th><th scope=col>Sepal.Width</th><th scope=col>Petal.Length</th><th scope=col>Petal.Width</th><th scope=col>Species</th></tr></thead>\n",
       "<tbody>\n",
       "\t<tr><td>5.1   </td><td>3.5   </td><td>1.4   </td><td>0.2   </td><td>setosa</td></tr>\n",
       "\t<tr><td>4.9   </td><td>3.0   </td><td>1.4   </td><td>0.2   </td><td>setosa</td></tr>\n",
       "\t<tr><td>4.7   </td><td>3.2   </td><td>1.3   </td><td>0.2   </td><td>setosa</td></tr>\n",
       "\t<tr><td>4.6   </td><td>3.1   </td><td>1.5   </td><td>0.2   </td><td>setosa</td></tr>\n",
       "\t<tr><td>5.0   </td><td>3.6   </td><td>1.4   </td><td>0.2   </td><td>setosa</td></tr>\n",
       "\t<tr><td>5.4   </td><td>3.9   </td><td>1.7   </td><td>0.4   </td><td>setosa</td></tr>\n",
       "</tbody>\n",
       "</table>\n"
      ],
      "text/latex": [
       "\\begin{tabular}{r|lllll}\n",
       " Sepal.Length & Sepal.Width & Petal.Length & Petal.Width & Species\\\\\n",
       "\\hline\n",
       "\t 5.1    & 3.5    & 1.4    & 0.2    & setosa\\\\\n",
       "\t 4.9    & 3.0    & 1.4    & 0.2    & setosa\\\\\n",
       "\t 4.7    & 3.2    & 1.3    & 0.2    & setosa\\\\\n",
       "\t 4.6    & 3.1    & 1.5    & 0.2    & setosa\\\\\n",
       "\t 5.0    & 3.6    & 1.4    & 0.2    & setosa\\\\\n",
       "\t 5.4    & 3.9    & 1.7    & 0.4    & setosa\\\\\n",
       "\\end{tabular}\n"
      ],
      "text/markdown": [
       "\n",
       "| Sepal.Length | Sepal.Width | Petal.Length | Petal.Width | Species |\n",
       "|---|---|---|---|---|\n",
       "| 5.1    | 3.5    | 1.4    | 0.2    | setosa |\n",
       "| 4.9    | 3.0    | 1.4    | 0.2    | setosa |\n",
       "| 4.7    | 3.2    | 1.3    | 0.2    | setosa |\n",
       "| 4.6    | 3.1    | 1.5    | 0.2    | setosa |\n",
       "| 5.0    | 3.6    | 1.4    | 0.2    | setosa |\n",
       "| 5.4    | 3.9    | 1.7    | 0.4    | setosa |\n",
       "\n"
      ],
      "text/plain": [
       "  Sepal.Length Sepal.Width Petal.Length Petal.Width Species\n",
       "1 5.1          3.5         1.4          0.2         setosa \n",
       "2 4.9          3.0         1.4          0.2         setosa \n",
       "3 4.7          3.2         1.3          0.2         setosa \n",
       "4 4.6          3.1         1.5          0.2         setosa \n",
       "5 5.0          3.6         1.4          0.2         setosa \n",
       "6 5.4          3.9         1.7          0.4         setosa "
      ]
     },
     "metadata": {},
     "output_type": "display_data"
    }
   ],
   "source": [
    "head(iris)"
   ]
  },
  {
   "cell_type": "code",
   "execution_count": null,
   "id": "attached-interface",
   "metadata": {},
   "outputs": [],
   "source": [
    "ggplot2 is an R package, which consists of 5 components,  data, the aesthetic mappings, the geom, stat, \n",
    "and position adjustments. It is used to layer up and create different plots using the geom function."
   ]
  },
  {
   "cell_type": "code",
   "execution_count": 4,
   "id": "utility-benjamin",
   "metadata": {},
   "outputs": [],
   "source": [
    "library(ggplot2) #loading the package."
   ]
  },
  {
   "cell_type": "code",
   "execution_count": 5,
   "id": "front-belize",
   "metadata": {},
   "outputs": [
    {
     "data": {
      "text/plain": [
       "  Sepal.Length    Sepal.Width     Petal.Length    Petal.Width   \n",
       " Min.   :4.300   Min.   :2.000   Min.   :1.000   Min.   :0.100  \n",
       " 1st Qu.:5.100   1st Qu.:2.800   1st Qu.:1.600   1st Qu.:0.300  \n",
       " Median :5.800   Median :3.000   Median :4.350   Median :1.300  \n",
       " Mean   :5.843   Mean   :3.057   Mean   :3.758   Mean   :1.199  \n",
       " 3rd Qu.:6.400   3rd Qu.:3.300   3rd Qu.:5.100   3rd Qu.:1.800  \n",
       " Max.   :7.900   Max.   :4.400   Max.   :6.900   Max.   :2.500  \n",
       "       Species  \n",
       " setosa    :50  \n",
       " versicolor:50  \n",
       " virginica :50  \n",
       "                \n",
       "                \n",
       "                "
      ]
     },
     "metadata": {},
     "output_type": "display_data"
    }
   ],
   "source": [
    "summary(iris)"
   ]
  },
  {
   "cell_type": "code",
   "execution_count": 6,
   "id": "serious-specification",
   "metadata": {},
   "outputs": [
    {
     "data": {
      "image/png": "[encoded data removed]",
      "text/plain": [
       "plot without title"
      ]
     },
     "metadata": {},
     "output_type": "display_data"
    }
   ],
   "source": [
    "#A scatter plot to visualise and observe the relationship between the variables of sepal.\n",
    "ggplot(iris,aes(x = Sepal.Length, y = Sepal.Width, col= Species)) + geom_point()"
   ]
  },
  {
   "cell_type": "code",
   "execution_count": 7,
   "id": "trying-indicator",
   "metadata": {},
   "outputs": [
    {
     "data": {
      "image/png": "[encoded data removed]",
      "text/plain": [
       "plot without title"
      ]
     },
     "metadata": {},
     "output_type": "display_data"
    }
   ],
   "source": [
    "#A scatter plot to visualise and observe the relationship between the variables of Petal.\n",
    "ggplot(iris,aes(x = Petal.Length, y = Petal.Width, col= Species)) + geom_point()"
   ]
  },
  {
   "cell_type": "markdown",
   "id": "joint-commons",
   "metadata": {},
   "source": [
    "# CLUSTER ANALYSIS\n",
    "K-MEANS ALGORITHM - Unsupervised algorithm\n",
    "ELBOW METHOD -> is used to determine the number of clusters in a dataset.\n",
    "The point at which the inertia starts decreasing is the elbow point.\n",
    "The value of k at the elbow point is the optimum number of clusters."
   ]
  },
  {
   "cell_type": "code",
   "execution_count": 19,
   "id": "similar-twelve",
   "metadata": {},
   "outputs": [
    {
     "data": {
      "text/html": [
       "<ol class=list-inline>\n",
       "\t<li>550.895333333334</li>\n",
       "\t<li>86.390219845514</li>\n",
       "\t<li>31.371358974359</li>\n",
       "\t<li>19.465989010989</li>\n",
       "\t<li>13.9169087579088</li>\n",
       "\t<li>11.0251451102504</li>\n",
       "\t<li>9.23659595959596</li>\n",
       "\t<li>7.67441409897292</li>\n",
       "\t<li>6.45649454140631</li>\n",
       "\t<li>5.55052018243195</li>\n",
       "</ol>\n"
      ],
      "text/latex": [
       "\\begin{enumerate*}\n",
       "\\item 550.895333333334\n",
       "\\item 86.390219845514\n",
       "\\item 31.371358974359\n",
       "\\item 19.465989010989\n",
       "\\item 13.9169087579088\n",
       "\\item 11.0251451102504\n",
       "\\item 9.23659595959596\n",
       "\\item 7.67441409897292\n",
       "\\item 6.45649454140631\n",
       "\\item 5.55052018243195\n",
       "\\end{enumerate*}\n"
      ],
      "text/markdown": [
       "1. 550.895333333334\n",
       "2. 86.390219845514\n",
       "3. 31.371358974359\n",
       "4. 19.465989010989\n",
       "5. 13.9169087579088\n",
       "6. 11.0251451102504\n",
       "7. 9.23659595959596\n",
       "8. 7.67441409897292\n",
       "9. 6.45649454140631\n",
       "10. 5.55052018243195\n",
       "\n",
       "\n"
      ],
      "text/plain": [
       " [1] 550.895333  86.390220  31.371359  19.465989  13.916909  11.025145\n",
       " [7]   9.236596   7.674414   6.456495   5.550520"
      ]
     },
     "metadata": {},
     "output_type": "display_data"
    }
   ],
   "source": [
    "#the plot between the within the sum of squares and the number of clusters shows the elbow point.\n",
    "set.seed(200)\n",
    "k.max <- 10\n",
    "wsos<- sapply(1:k.max,function(k){kmeans(iris[,3:4],k,nstart = 20,iter.max = 20)$tot.withinss})\n",
    "wsos"
   ]
  },
  {
   "cell_type": "code",
   "execution_count": 20,
   "id": "impressive-murder",
   "metadata": {},
   "outputs": [
    {
     "data": {
      "image/png": "[encoded data removed]",
      "text/plain": [
       "plot without title"
      ]
     },
     "metadata": {},
     "output_type": "display_data"
    }
   ],
   "source": [
    "plot(1:k.max,wsos, type= \"b\", xlab = \"Number of clusters(k)\", ylab = \"Within sum of squares\")"
   ]
  },
  {
   "cell_type": "markdown",
   "id": "pretty-invite",
   "metadata": {},
   "source": [
    "# kmeans()\n",
    "This function performs kmeans clustering on data matrix.\n",
    "arguments:\n",
    "x -> data\n",
    "k -> number of clusters\n",
    "nstart -> number of random sets chosen\n"
   ]
  },
  {
   "cell_type": "code",
   "execution_count": null,
   "id": "horizontal-composer",
   "metadata": {},
   "outputs": [],
   "source": [
    "icluster <- kmeans(iris[,3:4],3,nstart = 10)\n",
    "\n",
    "#table() function to represent the data variable and the frequency in a table.\n",
    "table(icluster$cluster,iris$Species)"
   ]
  },
  {
   "cell_type": "code",
   "execution_count": null,
   "id": "present-piano",
   "metadata": {},
   "outputs": [],
   "source": [
    "Hence, according to kmeans clustering, elbow method, the optimum number of clusters for the IRIS dataset is 3."
   ]
  }
 ],
 "metadata": {
  "kernelspec": {
   "display_name": "R",
   "language": "R",
   "name": "ir"
  },
  "language_info": {
   "codemirror_mode": "r",
   "file_extension": ".r",
   "mimetype": "text/x-r-source",
   "name": "R",
   "pygments_lexer": "r",
   "version": "3.6.1"
  }
 },
 "nbformat": 4,
 "nbformat_minor": 5
}
