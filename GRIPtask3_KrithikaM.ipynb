{
 "cells": [
  {
   "cell_type": "markdown",
   "id": "conventional-moderator",
   "metadata": {},
   "source": [
    "# KRITHIKA M\n",
    "TASK 3 - PREDICTION USING DECISION TREE ALGORITHM"
   ]
  },
  {
   "cell_type": "code",
   "execution_count": 4,
   "id": "intellectual-billion",
   "metadata": {},
   "outputs": [],
   "source": [
    "#importing the dataset from a csv file as a dataframe.\n",
    "iris <- read.csv(\"http://localhost:8889/edit/Downloads/Iris.csv\")"
   ]
  },
  {
   "cell_type": "code",
   "execution_count": 6,
   "id": "beginning-model",
   "metadata": {},
   "outputs": [
    {
     "data": {
      "text/html": [
       "<table>\n",
       "<thead><tr><th scope=col>Sepal.Length</th><th scope=col>Sepal.Width</th><th scope=col>Petal.Length</th><th scope=col>Petal.Width</th><th scope=col>Species</th></tr></thead>\n",
       "<tbody>\n",
       "\t<tr><td>5.1   </td><td>3.5   </td><td>1.4   </td><td>0.2   </td><td>setosa</td></tr>\n",
       "\t<tr><td>4.9   </td><td>3.0   </td><td>1.4   </td><td>0.2   </td><td>setosa</td></tr>\n",
       "\t<tr><td>4.7   </td><td>3.2   </td><td>1.3   </td><td>0.2   </td><td>setosa</td></tr>\n",
       "\t<tr><td>4.6   </td><td>3.1   </td><td>1.5   </td><td>0.2   </td><td>setosa</td></tr>\n",
       "\t<tr><td>5.0   </td><td>3.6   </td><td>1.4   </td><td>0.2   </td><td>setosa</td></tr>\n",
       "\t<tr><td>5.4   </td><td>3.9   </td><td>1.7   </td><td>0.4   </td><td>setosa</td></tr>\n",
       "</tbody>\n",
       "</table>\n"
      ],
      "text/latex": [
       "\\begin{tabular}{r|lllll}\n",
       " Sepal.Length & Sepal.Width & Petal.Length & Petal.Width & Species\\\\\n",
       "\\hline\n",
       "\t 5.1    & 3.5    & 1.4    & 0.2    & setosa\\\\\n",
       "\t 4.9    & 3.0    & 1.4    & 0.2    & setosa\\\\\n",
       "\t 4.7    & 3.2    & 1.3    & 0.2    & setosa\\\\\n",
       "\t 4.6    & 3.1    & 1.5    & 0.2    & setosa\\\\\n",
       "\t 5.0    & 3.6    & 1.4    & 0.2    & setosa\\\\\n",
       "\t 5.4    & 3.9    & 1.7    & 0.4    & setosa\\\\\n",
       "\\end{tabular}\n"
      ],
      "text/markdown": [
       "\n",
       "| Sepal.Length | Sepal.Width | Petal.Length | Petal.Width | Species |\n",
       "|---|---|---|---|---|\n",
       "| 5.1    | 3.5    | 1.4    | 0.2    | setosa |\n",
       "| 4.9    | 3.0    | 1.4    | 0.2    | setosa |\n",
       "| 4.7    | 3.2    | 1.3    | 0.2    | setosa |\n",
       "| 4.6    | 3.1    | 1.5    | 0.2    | setosa |\n",
       "| 5.0    | 3.6    | 1.4    | 0.2    | setosa |\n",
       "| 5.4    | 3.9    | 1.7    | 0.4    | setosa |\n",
       "\n"
      ],
      "text/plain": [
       "  Sepal.Length Sepal.Width Petal.Length Petal.Width Species\n",
       "1 5.1          3.5         1.4          0.2         setosa \n",
       "2 4.9          3.0         1.4          0.2         setosa \n",
       "3 4.7          3.2         1.3          0.2         setosa \n",
       "4 4.6          3.1         1.5          0.2         setosa \n",
       "5 5.0          3.6         1.4          0.2         setosa \n",
       "6 5.4          3.9         1.7          0.4         setosa "
      ]
     },
     "metadata": {},
     "output_type": "display_data"
    },
    {
     "data": {
      "text/plain": [
       "  Sepal.Length    Sepal.Width     Petal.Length    Petal.Width   \n",
       " Min.   :4.300   Min.   :2.000   Min.   :1.000   Min.   :0.100  \n",
       " 1st Qu.:5.100   1st Qu.:2.800   1st Qu.:1.600   1st Qu.:0.300  \n",
       " Median :5.800   Median :3.000   Median :4.350   Median :1.300  \n",
       " Mean   :5.843   Mean   :3.057   Mean   :3.758   Mean   :1.199  \n",
       " 3rd Qu.:6.400   3rd Qu.:3.300   3rd Qu.:5.100   3rd Qu.:1.800  \n",
       " Max.   :7.900   Max.   :4.400   Max.   :6.900   Max.   :2.500  \n",
       "       Species  \n",
       " setosa    :50  \n",
       " versicolor:50  \n",
       " virginica :50  \n",
       "                \n",
       "                \n",
       "                "
      ]
     },
     "metadata": {},
     "output_type": "display_data"
    },
    {
     "name": "stdout",
     "output_type": "stream",
     "text": [
      "'data.frame':\t150 obs. of  5 variables:\n",
      " $ Sepal.Length: num  5.1 4.9 4.7 4.6 5 5.4 4.6 5 4.4 4.9 ...\n",
      " $ Sepal.Width : num  3.5 3 3.2 3.1 3.6 3.9 3.4 3.4 2.9 3.1 ...\n",
      " $ Petal.Length: num  1.4 1.4 1.3 1.5 1.4 1.7 1.4 1.5 1.4 1.5 ...\n",
      " $ Petal.Width : num  0.2 0.2 0.2 0.2 0.2 0.4 0.3 0.2 0.2 0.1 ...\n",
      " $ Species     : Factor w/ 3 levels \"setosa\",\"versicolor\",..: 1 1 1 1 1 1 1 1 1 1 ...\n"
     ]
    }
   ],
   "source": [
    "#common functions that can be performed to know more about the dataframe.\n",
    "data(iris)\n",
    "head(iris)\n",
    "summary(iris)\n",
    "str(iris)"
   ]
  },
  {
   "cell_type": "markdown",
   "id": "catholic-neutral",
   "metadata": {},
   "source": [
    "# CLASSIFICATION USING DESCISION TREE"
   ]
  },
  {
   "cell_type": "code",
   "execution_count": 18,
   "id": "radio-machine",
   "metadata": {},
   "outputs": [
    {
     "name": "stderr",
     "output_type": "stream",
     "text": [
      "Warning message:\n",
      "\"package 'rpart' was built under R version 3.6.3\""
     ]
    }
   ],
   "source": [
    "#rpart package to implement trees.\n",
    "library(rpart)"
   ]
  },
  {
   "cell_type": "markdown",
   "id": "superior-criticism",
   "metadata": {},
   "source": [
    "# Conclusions of the data:\n",
    "1)If the value of Petal.Length is less than 2.5, the flower belongs to \"setosa\" species.\n",
    "2)If the value of Petal.Length is greater than or equal to 2.5,\n",
    " --> and the Petal.Width is less than 1.8, the flower belongs to the \"versicolor\" species.\n",
    " --> and the Petal.Width is greater than or equal to 1.8, the flower belongs to the \"virginica\" species."
   ]
  },
  {
   "cell_type": "code",
   "execution_count": 20,
   "id": "buried-jersey",
   "metadata": {},
   "outputs": [
    {
     "data": {
      "image/png": "[encoded data removed]",
      "text/plain": [
       "Plot with title \"\""
      ]
     },
     "metadata": {},
     "output_type": "display_data"
    }
   ],
   "source": [
    "dtree <- rpart(Species ~ ., data = iris)\n",
    "rattle::fancyRpartPlot(dtree, type = 5, sub = \"\")"
   ]
  },
  {
   "cell_type": "markdown",
   "id": "overhead-parking",
   "metadata": {},
   "source": [
    "# SPLITTING DATA INTO TRAIN AND TEST DATA"
   ]
  },
  {
   "cell_type": "code",
   "execution_count": 22,
   "id": "geographic-tumor",
   "metadata": {},
   "outputs": [],
   "source": [
    "set.seed(3) \n",
    "#partitioning the data based on species for 1 time and 50% proportionality.\n",
    "partition <- createDataPartition(factor(iris$Species), \n",
    "                           times = 1, \n",
    "                           p = 0.5, \n",
    "                           list = FALSE)\n",
    "\n",
    "#train data --> data given to the model to train it.\n",
    "trainset <- iris[partition,] \n",
    "#test data --> unseen by the model, to test the accuracy of model at the end.\n",
    "testset_data <- iris[-partition,] %>% select(-Species)   \n",
    "testset_labels <- iris[-partition,] %>% select(Species)"
   ]
  },
  {
   "cell_type": "code",
   "execution_count": 23,
   "id": "continued-ambassador",
   "metadata": {},
   "outputs": [],
   "source": [
    "#Using the caret package to train the model.\n",
    "library(caret)"
   ]
  },
  {
   "cell_type": "markdown",
   "id": "oriental-ordering",
   "metadata": {},
   "source": [
    "Cross validation to train models with input, and hence detect overfitting.\n",
    "tarinControl() --> control the utilities of train()\n",
    "The arguments:\n",
    "1)method --> resampling method\n",
    "2)verboseIter --> training log\n",
    "3)savePredictions --> indicates number of predictions to be saved\n",
    "4)classProbs --> whether or not to classify."
   ]
  },
  {
   "cell_type": "code",
   "execution_count": 30,
   "id": "alternate-medicine",
   "metadata": {},
   "outputs": [],
   "source": [
    "control <- trainControl(method = \"cv\", \n",
    "                        verboseIter = TRUE,\n",
    "                        savePredictions = \"final\",\n",
    "                        classProbs = TRUE) \n",
    "\n",
    "set.seed(1)"
   ]
  },
  {
   "cell_type": "markdown",
   "id": "seeing-basket",
   "metadata": {},
   "source": [
    "randomForest package implemet random forest algorithm to create a decision tree and visualise the graph.\n",
    "train() function fits the model and calulates a measure.\n",
    "The arguments:\n",
    "1)data --> dataframe containing the varibales.\n",
    "2)trControl --> controls how the function acts.\n",
    "3)maximize --> metric is maximised\n",
    "4)tuneGrid --> dataframe of tuning values.\n",
    "5)method --> method of classification model."
   ]
  },
  {
   "cell_type": "code",
   "execution_count": 31,
   "id": "expected-sixth",
   "metadata": {},
   "outputs": [
    {
     "name": "stdout",
     "output_type": "stream",
     "text": [
      "+ Fold01: mtry=4 \n",
      "- Fold01: mtry=4 \n",
      "+ Fold02: mtry=4 \n",
      "- Fold02: mtry=4 \n",
      "+ Fold03: mtry=4 \n",
      "- Fold03: mtry=4 \n",
      "+ Fold04: mtry=4 \n",
      "- Fold04: mtry=4 \n",
      "+ Fold05: mtry=4 \n",
      "- Fold05: mtry=4 \n",
      "+ Fold06: mtry=4 \n",
      "- Fold06: mtry=4 \n",
      "+ Fold07: mtry=4 \n",
      "- Fold07: mtry=4 \n",
      "+ Fold08: mtry=4 \n",
      "- Fold08: mtry=4 \n",
      "+ Fold09: mtry=4 \n",
      "- Fold09: mtry=4 \n",
      "+ Fold10: mtry=4 \n",
      "- Fold10: mtry=4 \n",
      "Aggregating results\n",
      "Fitting final model on full training set\n"
     ]
    }
   ],
   "source": [
    "model <- train(Species ~ ., data = iris,\n",
    "               trControl = control,\n",
    "               maximize = TRUE,\n",
    "               tuneGrid = data.frame(mtry = 4),\n",
    "               method = \"rf\") "
   ]
  },
  {
   "cell_type": "code",
   "execution_count": 25,
   "id": "seeing-nerve",
   "metadata": {},
   "outputs": [
    {
     "data": {
      "text/plain": [
       "Random Forest \n",
       "\n",
       "150 samples\n",
       "  4 predictor\n",
       "  3 classes: 'setosa', 'versicolor', 'virginica' \n",
       "\n",
       "No pre-processing\n",
       "Resampling: Cross-Validated (10 fold) \n",
       "Summary of sample sizes: 135, 135, 135, 135, 135, 135, ... \n",
       "Resampling results:\n",
       "\n",
       "  Accuracy   Kappa\n",
       "  0.9533333  0.93 \n",
       "\n",
       "Tuning parameter 'mtry' was held constant at a value of 4"
      ]
     },
     "metadata": {},
     "output_type": "display_data"
    }
   ],
   "source": [
    "model"
   ]
  },
  {
   "cell_type": "markdown",
   "id": "obvious-catholic",
   "metadata": {},
   "source": [
    "The accuracy of model is 93%."
   ]
  },
  {
   "cell_type": "markdown",
   "id": "fallen-keyboard",
   "metadata": {},
   "source": [
    "Confusion matrix of train data."
   ]
  },
  {
   "cell_type": "code",
   "execution_count": 26,
   "id": "random-volunteer",
   "metadata": {},
   "outputs": [
    {
     "data": {
      "text/plain": [
       "Cross-Validated (10 fold) Confusion Matrix \n",
       "\n",
       "(entries are percentual average cell counts across resamples)\n",
       " \n",
       "            Reference\n",
       "Prediction   setosa versicolor virginica\n",
       "  setosa       33.3        0.0       0.0\n",
       "  versicolor    0.0       31.3       2.7\n",
       "  virginica     0.0        2.0      30.7\n",
       "                            \n",
       " Accuracy (average) : 0.9533\n"
      ]
     },
     "metadata": {},
     "output_type": "display_data"
    }
   ],
   "source": [
    "confusionMatrix.train(model)"
   ]
  },
  {
   "cell_type": "markdown",
   "id": "detected-builder",
   "metadata": {},
   "source": [
    "# Testing the model using the test data"
   ]
  },
  {
   "cell_type": "code",
   "execution_count": 28,
   "id": "pregnant-geography",
   "metadata": {},
   "outputs": [],
   "source": [
    "predictionvalue <- predict(model, trainset)"
   ]
  },
  {
   "cell_type": "code",
   "execution_count": 29,
   "id": "worst-karaoke",
   "metadata": {},
   "outputs": [
    {
     "data": {
      "text/plain": [
       "Confusion Matrix and Statistics\n",
       "\n",
       "            Reference\n",
       "Prediction   setosa versicolor virginica\n",
       "  setosa         25          0         0\n",
       "  versicolor      0         25         0\n",
       "  virginica       0          0        25\n",
       "\n",
       "Overall Statistics\n",
       "                                    \n",
       "               Accuracy : 1         \n",
       "                 95% CI : (0.952, 1)\n",
       "    No Information Rate : 0.3333    \n",
       "    P-Value [Acc > NIR] : < 2.2e-16 \n",
       "                                    \n",
       "                  Kappa : 1         \n",
       "                                    \n",
       " Mcnemar's Test P-Value : NA        \n",
       "\n",
       "Statistics by Class:\n",
       "\n",
       "                     Class: setosa Class: versicolor Class: virginica\n",
       "Sensitivity                 1.0000            1.0000           1.0000\n",
       "Specificity                 1.0000            1.0000           1.0000\n",
       "Pos Pred Value              1.0000            1.0000           1.0000\n",
       "Neg Pred Value              1.0000            1.0000           1.0000\n",
       "Prevalence                  0.3333            0.3333           0.3333\n",
       "Detection Rate              0.3333            0.3333           0.3333\n",
       "Detection Prevalence        0.3333            0.3333           0.3333\n",
       "Balanced Accuracy           1.0000            1.0000           1.0000"
      ]
     },
     "metadata": {},
     "output_type": "display_data"
    }
   ],
   "source": [
    "confusionMatrix(predictionvalue, testset_labels$Species)"
   ]
  },
  {
   "cell_type": "code",
   "execution_count": null,
   "id": "reserved-synthetic",
   "metadata": {},
   "outputs": [],
   "source": [
    "From the above prediction, the accuracy of the model is 1, i.e 100% accuracy."
   ]
  }
 ],
 "metadata": {
  "kernelspec": {
   "display_name": "R",
   "language": "R",
   "name": "ir"
  },
  "language_info": {
   "codemirror_mode": "r",
   "file_extension": ".r",
   "mimetype": "text/x-r-source",
   "name": "R",
   "pygments_lexer": "r",
   "version": "3.6.1"
  }
 },
 "nbformat": 4,
 "nbformat_minor": 5
}
